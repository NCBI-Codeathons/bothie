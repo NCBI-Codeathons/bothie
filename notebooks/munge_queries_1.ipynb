{
 "cells": [
  {
   "cell_type": "code",
   "execution_count": 1,
   "metadata": {},
   "outputs": [
    {
     "name": "stdout",
     "output_type": "stream",
     "text": [
      "LICENSE            \u001b[34mconf\u001b[m\u001b[m/              \u001b[34moutputs\u001b[m\u001b[m/           \u001b[31mrun-one-query\u001b[m\u001b[m*\r\n",
      "README.md          \u001b[34mdata\u001b[m\u001b[m/              \u001b[31mrun-many-queries\u001b[m\u001b[m*  \u001b[34msourmash\u001b[m\u001b[m/\r\n",
      "Untitled.ipynb     environment.yml    run-many-queries~\r\n"
     ]
    }
   ],
   "source": [
    "ls"
   ]
  },
  {
   "cell_type": "code",
   "execution_count": 2,
   "metadata": {},
   "outputs": [
    {
     "name": "stdout",
     "output_type": "stream",
     "text": [
      "genome-s10+s11.fa.gz  genome-s10.fa.gz\r\n"
     ]
    }
   ],
   "source": [
    "ls data"
   ]
  },
  {
   "cell_type": "code",
   "execution_count": 7,
   "metadata": {},
   "outputs": [],
   "source": [
    "import screed\n",
    "\n",
    "filename = 'data/genome-s10.fa.gz'\n",
    "genome_record = list(screed.open(filename))[0]\n",
    "genome_seq = genome_record.sequence\n",
    "genome_name = genome_record.name"
   ]
  },
  {
   "cell_type": "code",
   "execution_count": 8,
   "metadata": {},
   "outputs": [
    {
     "data": {
      "text/plain": [
       "500000"
      ]
     },
     "execution_count": 8,
     "metadata": {},
     "output_type": "execute_result"
    }
   ],
   "source": [
    "len(genome_seq)"
   ]
  },
  {
   "cell_type": "code",
   "execution_count": 9,
   "metadata": {},
   "outputs": [
    {
     "name": "stdout",
     "output_type": "stream",
     "text": [
      "wrote data/genome-s10.fa.gz.100\n",
      "wrote data/genome-s10.fa.gz.500\n",
      "wrote data/genome-s10.fa.gz.1000\n",
      "wrote data/genome-s10.fa.gz.2000\n",
      "wrote data/genome-s10.fa.gz.3000\n",
      "wrote data/genome-s10.fa.gz.4000\n",
      "wrote data/genome-s10.fa.gz.5000\n",
      "wrote data/genome-s10.fa.gz.10000\n"
     ]
    }
   ],
   "source": [
    "start_pos = 0\n",
    "for i in (100, 500, 1000, 2000, 3000, 4000, 5000, 10000):\n",
    "    subseq = genome_seq[start_pos:start_pos + i]\n",
    "    output_name = f\"{filename}.{i}\"\n",
    "    with open(output_name, 'wt') as fp:\n",
    "        fp.write(f\">{genome_name}.{i}\\n\")\n",
    "        fp.write(subseq)\n",
    "    print(\"wrote\", output_name)"
   ]
  },
  {
   "cell_type": "code",
   "execution_count": null,
   "metadata": {},
   "outputs": [],
   "source": []
  }
 ],
 "metadata": {
  "kernelspec": {
   "display_name": "Python (myenv)",
   "language": "python",
   "name": "myenv"
  },
  "language_info": {
   "codemirror_mode": {
    "name": "ipython",
    "version": 3
   },
   "file_extension": ".py",
   "mimetype": "text/x-python",
   "name": "python",
   "nbconvert_exporter": "python",
   "pygments_lexer": "ipython3",
   "version": "3.7.6"
  }
 },
 "nbformat": 4,
 "nbformat_minor": 4
}
